{
 "cells": [
  {
   "cell_type": "code",
   "execution_count": 1,
   "metadata": {},
   "outputs": [],
   "source": [
    "import json\n",
    "import os\n",
    "from openai import AzureOpenAI\n",
    "\n",
    "config_path = 'config.json'\n",
    "with open(config_path, 'r') as config_file:\n",
    "    config = json.load(config_file)\n",
    "\n",
    "azure_api_key = config['azure_api_key']\n",
    "azure_api_version = config['azure_api_version']\n",
    "azure_endpoint = config['azure_endpoint']\n",
    "deployment_name = config['deployment_name']\n",
    "\n",
    "client = AzureOpenAI(\n",
    "    api_key=azure_api_key,  \n",
    "    api_version=azure_api_version,\n",
    "    azure_endpoint=azure_endpoint\n",
    ")\n",
    "\n",
    "def generate_text(prompt):\n",
    "\n",
    "    response = client.chat.completions.create(\n",
    "        model=deployment_name,\n",
    "        messages=[\n",
    "            {\"role\": \"system\", \"content\": \"You are a assistant.\"},\n",
    "            {\"role\": \"user\", \"content\": prompt}\n",
    "        ],\n",
    "        max_tokens=200,\n",
    "        temperature=0.7\n",
    "    )\n",
    "\n",
    "    text = response.choices[0].message.content.strip()\n",
    "\n",
    "    return text\n",
    "\n",
    "def generate_response(feedback):\n",
    "    prompt = f\"Generate a short but symphetetic response to the user about the feedback {feedback}\"\n",
    "\n",
    "    text = generate_text(prompt)\n",
    "\n",
    "    return text"
   ]
  },
  {
   "cell_type": "code",
   "execution_count": 2,
   "metadata": {},
   "outputs": [
    {
     "name": "stdout",
     "output_type": "stream",
     "text": [
      "Thank you for your feedback. We're sorry to hear that the food didn't meet your expectations, but we're glad the service was satisfactory. We'll address the issues with the food to improve your experience next time.\n"
     ]
    }
   ],
   "source": [
    "feedback = \"The food was bad but the serivice was good\"\n",
    "response = generate_response(feedback)\n",
    "print(response)"
   ]
  },
  {
   "cell_type": "code",
   "execution_count": null,
   "metadata": {},
   "outputs": [],
   "source": []
  }
 ],
 "metadata": {
  "kernelspec": {
   "display_name": "Python 3",
   "language": "python",
   "name": "python3"
  },
  "language_info": {
   "codemirror_mode": {
    "name": "ipython",
    "version": 3
   },
   "file_extension": ".py",
   "mimetype": "text/x-python",
   "name": "python",
   "nbconvert_exporter": "python",
   "pygments_lexer": "ipython3",
   "version": "3.8.0"
  }
 },
 "nbformat": 4,
 "nbformat_minor": 2
}
