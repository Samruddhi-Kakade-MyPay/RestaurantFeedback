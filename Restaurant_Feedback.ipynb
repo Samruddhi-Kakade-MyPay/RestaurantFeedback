{
 "cells": [
  {
   "cell_type": "code",
   "execution_count": 67,
   "metadata": {},
   "outputs": [],
   "source": [
    "import json\n",
    "import os\n",
    "from openai import AzureOpenAI\n",
    "\n",
    "config_path = 'config.json'\n",
    "with open(config_path, 'r') as config_file:\n",
    "    config = json.load(config_file)\n",
    "\n",
    "azure_api_key = config['azure_api_key']\n",
    "azure_api_version = config['azure_api_version']\n",
    "azure_endpoint = config['azure_endpoint']\n",
    "deployment_name = config['deployment_name']\n",
    "\n",
    "client = AzureOpenAI(\n",
    "    api_key=azure_api_key,  \n",
    "    api_version=azure_api_version,\n",
    "    azure_endpoint=azure_endpoint\n",
    ")\n",
    "\n",
    "def generate_text(prompt):\n",
    "\n",
    "    response = client.chat.completions.create(\n",
    "        model=deployment_name,\n",
    "        messages=[\n",
    "            {\"role\": \"system\", \"content\": \"You are a helpful assistant.\"},\n",
    "            {\"role\": \"user\", \"content\": prompt}\n",
    "        ],\n",
    "        max_tokens=200,\n",
    "        temperature=0.7\n",
    "    )\n",
    "\n",
    "    text = response.choices[0].message.content.strip()\n",
    "\n",
    "    return text\n",
    "\n",
    "def generate_response(feedback):\n",
    "    prompt = f\"For the given feedback {feedback}, check if it is positive, negative or mixed. Give it under 'Sentiment:' heading, P for positive, N for negative and M for mixed. For positive or (negative and mixed) specify which category or categories (service, food, etc.) was positive or negative under heading 'Categories:' and the severity (1 to 5 range) of the feedback under heading 'Severity:'. For positive severity is 0. Don't write anything else or break format.\"\n",
    "    analysis = generate_text(prompt)\n",
    "    parts = analysis.split(\"\\n\")\n",
    "    for part in parts:\n",
    "        if part.startswith(\"Sentiment:\"):\n",
    "            sentiment = part.replace(\"Sentiment:\", \"\").strip()\n",
    "        elif part.startswith(\"Categories:\"):\n",
    "            category = part.replace(\"Categories:\", \"\").strip()\n",
    "        elif part.startswith(\"Severity:\"):\n",
    "            severity = part.replace(\"Severity:\", \"\").strip()\n",
    "    if sentiment == 'N':\n",
    "        prompt_2 = f\"For the given feedback {feedback}, generate only a apologetic response with a promise to improve. Don't write anyting else. No email,reply,message response format.\"\n",
    "        response = generate_text(prompt_2)\n",
    "    elif sentiment == 'M':\n",
    "        prompt_2 = f\"For the given feedback {feedback}, generate only a appreciative response and apology with a promise to improve. Don't write anyting else. No email,reply,message response format.\"\n",
    "        response = generate_text(prompt_2)\n",
    "    elif sentiment == 'P':\n",
    "        prompt_2 = f\"For the given feedback {feedback}, generate only a appreciative response. Don't write anyting else. No email,reply,message response format.\"\n",
    "        response = generate_text(prompt_2)\n",
    "\n",
    "                \n",
    "    return sentiment, response, category, severity\n",
    "\n",
    "\n"
   ]
  },
  {
   "cell_type": "code",
   "execution_count": 68,
   "metadata": {},
   "outputs": [
    {
     "name": "stdout",
     "output_type": "stream",
     "text": [
      "Response for feedback:\n",
      "Thank you for sharing your feedback. We apologize for the inconsistency during your dine-in experience. We appreciate your input and will strive to improve our service and food quality to ensure a better experience next time.\n",
      "Sentiment for feedback:  M\n",
      "Category of negative/positive area in feedback:  food (negative)\n",
      "Severity of feedback:  3\n"
     ]
    }
   ],
   "source": [
    "# Example\n",
    "feedback_p1 = \"We recently had them cater for our son’s wedding welcome party at the Alloy hotel. Was very nervous with Indian food catering since all items taste the same with the same masala in most Indian restaurants. They did a fantastic job with the food that was cooked on site in the hotel kitchen. The appetizers (wide selection) were excellent and especially the chat stand with a variety of pani puri, dhai puri and Bhel Puri and not to forget the cool mango lassi to compliment the various other drinks. The main meal was unique with a southIndian flavor with no garlic (on request) and the flavors were not the same masala in all dishes. The butter chicken and lamb dishes were a big hit. The desserts (3 different ones) were very good and especially the young and old alike devoured on the gulab jamuns. Overall the service and food was excellent and will highly recommend talking to the owner Karthik to get things going. Got value for our money.\"\n",
    "feedback_p2 = \"Very great Indian restaurant. Stopped by this place during my business trip. Loved the atmosphere and the customer service. I tried the authentic chicken korma and mutton gravy with malabar poratta. Very great taste and loved how flaky poratta was. I will be visiting pa again and very excited to try new dishes at this place. I'm a big fan of biryani, that's in my wishlist when I visit this place next time.\"\n",
    "\n",
    "feedback_n1 = \"I would give minus rating if possible, We order fish biryani and dosa. In Biryani they mix chicken with fish, though I clearly ask them for fish biryani.  We didn't eat the biryani, still paid for it. They were even not apologetic for it. One of the worst experiences.\"\n",
    "feedback_n2 = \"The food was meh. No seasoning whatsoever. I am guessing a piece of cardboard will taste better than the pomfret fish fry, I’d rather eat the cardboard.\"\n",
    "\n",
    "feedback_m1 = \"Very nice staff, food is less spicy which is a good thing for me.  Have been here few times and i  liked all dishes except the dosa and its chutney - maybe this one is  just not my thing\"\n",
    "feedback_m2 = \"May be this was just one off experience - visited this place after the take out experience was splendid. But dine-in was just above average. Some of the dishes lacked salt. A friend had a similar experience as well.\"\n",
    "\n",
    "sentiment, response, category, severity = generate_response(feedback_m2)\n",
    "print(\"Response for feedback:\")\n",
    "print(response)\n",
    "print(\"Sentiment for feedback: \",sentiment)\n",
    "print(\"Category of negative/positive area in feedback: \", category)\n",
    "print(\"Severity of feedback (0 positive, 1 to 5 negative/mixed): \", severity)"
   ]
  },
  {
   "cell_type": "code",
   "execution_count": null,
   "metadata": {},
   "outputs": [],
   "source": []
  }
 ],
 "metadata": {
  "kernelspec": {
   "display_name": "Python 3",
   "language": "python",
   "name": "python3"
  },
  "language_info": {
   "codemirror_mode": {
    "name": "ipython",
    "version": 3
   },
   "file_extension": ".py",
   "mimetype": "text/x-python",
   "name": "python",
   "nbconvert_exporter": "python",
   "pygments_lexer": "ipython3",
   "version": "3.8.0"
  }
 },
 "nbformat": 4,
 "nbformat_minor": 2
}
