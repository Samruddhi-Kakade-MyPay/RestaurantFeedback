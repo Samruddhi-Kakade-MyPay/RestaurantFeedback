{
 "cells": [
  {
   "cell_type": "code",
   "execution_count": 35,
   "metadata": {},
   "outputs": [],
   "source": [
    "import json\n",
    "import os\n",
    "from openai import AzureOpenAI\n",
    "\n",
    "config_path = 'config.json'\n",
    "with open(config_path, 'r') as config_file:\n",
    "    config = json.load(config_file)\n",
    "\n",
    "azure_api_key = config['azure_api_key']\n",
    "azure_api_version = config['azure_api_version']\n",
    "azure_endpoint = config['azure_endpoint']\n",
    "deployment_name = config['deployment_name']\n",
    "\n",
    "client = AzureOpenAI(\n",
    "    api_key=azure_api_key,  \n",
    "    api_version=azure_api_version,\n",
    "    azure_endpoint=azure_endpoint\n",
    ")\n",
    "\n",
    "def generate_text(prompt):\n",
    "\n",
    "    response = client.chat.completions.create(\n",
    "        model=deployment_name,\n",
    "        messages=[\n",
    "            {\"role\": \"system\", \"content\": \"You are a helpful assistant.\"},\n",
    "            {\"role\": \"user\", \"content\": prompt}\n",
    "        ],\n",
    "        max_tokens=200,\n",
    "        temperature=0.7\n",
    "    )\n",
    "\n",
    "    text = response.choices[0].message.content.strip()\n",
    "\n",
    "    return text\n",
    "\n",
    "def generate_response(feedback):\n",
    "    prompt = f\"Generate a short but sympathetic response to the user about the feedback {feedback}. Is the review negative or positive? Write a N for negative or P for positive at the end. Mixed reviews are considered negative. Don't write anything else or break format\"\n",
    "    response = generate_text(prompt)\n",
    "    sentiment = response[-1]\n",
    "    response = response[:-1].strip()\n",
    "    category = \"Positive\"\n",
    "    severity = \"0\"\n",
    "    if sentiment == 'N':\n",
    "        prompt_2 = f\"For the given negative feedback {feedback}, specify which category (service, food, etc.) was negative under heading 'Category:' and the severity (1 to 5 range) of the feedback under heading 'Severity:'. Don't write anything else or break format.\"\n",
    "        text = generate_text(prompt_2)\n",
    "        parts = text.split(\"\\n\")\n",
    "        for part in parts:\n",
    "            if part.startswith(\"Category:\"):\n",
    "                category = part.replace(\"Category:\", \"\").strip()\n",
    "            elif part.startswith(\"Severity:\"):\n",
    "                severity = part.replace(\"Severity:\", \"\").strip()\n",
    "    return response, category, severity\n",
    "\n",
    "\n"
   ]
  },
  {
   "cell_type": "code",
   "execution_count": 36,
   "metadata": {},
   "outputs": [
    {
     "name": "stdout",
     "output_type": "stream",
     "text": [
      "Response to feedback:\n",
      "I'm sorry to hear that the food didn't meet your expectations, but I'm glad you had a positive experience with our service. We'll work on improving the food quality.\n",
      "Category: food\n",
      "Severity: 3\n"
     ]
    }
   ],
   "source": [
    "# Example\n",
    "feedback = \"The service was good but the food not so much. It was really cold. But the waiter was so polite.\"\n",
    "response, category, severity = generate_response(feedback)\n",
    "print(\"Response to feedback:\")\n",
    "print(response)\n",
    "print(\"Category:\", category)\n",
    "print(\"Severity:\", severity)\n",
    "\n"
   ]
  },
  {
   "cell_type": "code",
   "execution_count": null,
   "metadata": {},
   "outputs": [],
   "source": []
  }
 ],
 "metadata": {
  "kernelspec": {
   "display_name": "Python 3",
   "language": "python",
   "name": "python3"
  },
  "language_info": {
   "codemirror_mode": {
    "name": "ipython",
    "version": 3
   },
   "file_extension": ".py",
   "mimetype": "text/x-python",
   "name": "python",
   "nbconvert_exporter": "python",
   "pygments_lexer": "ipython3",
   "version": "3.8.0"
  }
 },
 "nbformat": 4,
 "nbformat_minor": 2
}
